{
 "cells": [
  {
   "cell_type": "code",
   "execution_count": 96,
   "id": "eb963daa",
   "metadata": {},
   "outputs": [],
   "source": [
    "import pandas as pd\n",
    "import matplotlib.pyplot as plt\n",
    "import scipy.stats as st\n",
    "import numpy as np"
   ]
  },
  {
   "cell_type": "code",
   "execution_count": 123,
   "id": "e0760dfc",
   "metadata": {},
   "outputs": [],
   "source": [
    "lakes = [\"06015200\",\"29007100\",\"31078400\",\"56038200\",\"08004500\"]"
   ]
  },
  {
   "cell_type": "code",
   "execution_count": 124,
   "id": "7ceb1477",
   "metadata": {
    "scrolled": true
   },
   "outputs": [],
   "source": [
    "lakes_data = [pd.read_csv(f\"Resources/{x}_catch.csv\",converters={\"lake_ID\": str}) for x in lakes]"
   ]
  },
  {
   "cell_type": "code",
   "execution_count": 125,
   "id": "27b9458d",
   "metadata": {},
   "outputs": [
    {
     "data": {
      "text/html": [
       "<div>\n",
       "<style scoped>\n",
       "    .dataframe tbody tr th:only-of-type {\n",
       "        vertical-align: middle;\n",
       "    }\n",
       "\n",
       "    .dataframe tbody tr th {\n",
       "        vertical-align: top;\n",
       "    }\n",
       "\n",
       "    .dataframe thead th {\n",
       "        text-align: right;\n",
       "    }\n",
       "</style>\n",
       "<table border=\"1\" class=\"dataframe\">\n",
       "  <thead>\n",
       "    <tr style=\"text-align: right;\">\n",
       "      <th></th>\n",
       "      <th>lake_ID</th>\n",
       "      <th>CPUE</th>\n",
       "      <th>averageWeight</th>\n",
       "      <th>gear</th>\n",
       "      <th>gearCount</th>\n",
       "      <th>quartileCount</th>\n",
       "      <th>quartileWeight</th>\n",
       "      <th>species</th>\n",
       "      <th>survey_ID</th>\n",
       "      <th>survey_date</th>\n",
       "      <th>totalCatch</th>\n",
       "      <th>totalWeight</th>\n",
       "    </tr>\n",
       "  </thead>\n",
       "  <tbody>\n",
       "    <tr>\n",
       "      <th>0</th>\n",
       "      <td>06015200</td>\n",
       "      <td>1.45</td>\n",
       "      <td>0.11</td>\n",
       "      <td>Standard gill nets</td>\n",
       "      <td>20.0</td>\n",
       "      <td>0.8-11.0</td>\n",
       "      <td>0.2-0.4</td>\n",
       "      <td>WHC</td>\n",
       "      <td>117389</td>\n",
       "      <td>1987-09-01</td>\n",
       "      <td>29</td>\n",
       "      <td>3.3</td>\n",
       "    </tr>\n",
       "    <tr>\n",
       "      <th>1</th>\n",
       "      <td>06015200</td>\n",
       "      <td>20.60</td>\n",
       "      <td>0.48</td>\n",
       "      <td>Standard gill nets</td>\n",
       "      <td>20.0</td>\n",
       "      <td>0.8-7.1</td>\n",
       "      <td>NaN</td>\n",
       "      <td>WHB</td>\n",
       "      <td>117389</td>\n",
       "      <td>1987-09-01</td>\n",
       "      <td>412</td>\n",
       "      <td>197.3</td>\n",
       "    </tr>\n",
       "    <tr>\n",
       "      <th>2</th>\n",
       "      <td>06015200</td>\n",
       "      <td>0.25</td>\n",
       "      <td>0.84</td>\n",
       "      <td>Standard gill nets</td>\n",
       "      <td>20.0</td>\n",
       "      <td>0.3-3.6</td>\n",
       "      <td>0.5-0.9</td>\n",
       "      <td>YEB</td>\n",
       "      <td>117389</td>\n",
       "      <td>1987-09-01</td>\n",
       "      <td>5</td>\n",
       "      <td>4.2</td>\n",
       "    </tr>\n",
       "    <tr>\n",
       "      <th>3</th>\n",
       "      <td>06015200</td>\n",
       "      <td>1.75</td>\n",
       "      <td>2.77</td>\n",
       "      <td>Standard gill nets</td>\n",
       "      <td>20.0</td>\n",
       "      <td>1.2-7.8</td>\n",
       "      <td>1.5-3.0</td>\n",
       "      <td>NOP</td>\n",
       "      <td>117389</td>\n",
       "      <td>1987-09-01</td>\n",
       "      <td>35</td>\n",
       "      <td>96.9</td>\n",
       "    </tr>\n",
       "    <tr>\n",
       "      <th>4</th>\n",
       "      <td>06015200</td>\n",
       "      <td>0.10</td>\n",
       "      <td>8.10</td>\n",
       "      <td>Standard gill nets</td>\n",
       "      <td>20.0</td>\n",
       "      <td>NaN</td>\n",
       "      <td>NaN</td>\n",
       "      <td>CCF</td>\n",
       "      <td>117389</td>\n",
       "      <td>1987-09-01</td>\n",
       "      <td>2</td>\n",
       "      <td>16.2</td>\n",
       "    </tr>\n",
       "  </tbody>\n",
       "</table>\n",
       "</div>"
      ],
      "text/plain": [
       "    lake_ID   CPUE  averageWeight                gear  gearCount  \\\n",
       "0  06015200   1.45           0.11  Standard gill nets       20.0   \n",
       "1  06015200  20.60           0.48  Standard gill nets       20.0   \n",
       "2  06015200   0.25           0.84  Standard gill nets       20.0   \n",
       "3  06015200   1.75           2.77  Standard gill nets       20.0   \n",
       "4  06015200   0.10           8.10  Standard gill nets       20.0   \n",
       "\n",
       "  quartileCount quartileWeight species  survey_ID survey_date  totalCatch  \\\n",
       "0      0.8-11.0        0.2-0.4     WHC     117389  1987-09-01          29   \n",
       "1       0.8-7.1            NaN     WHB     117389  1987-09-01         412   \n",
       "2       0.3-3.6        0.5-0.9     YEB     117389  1987-09-01           5   \n",
       "3       1.2-7.8        1.5-3.0     NOP     117389  1987-09-01          35   \n",
       "4           NaN            NaN     CCF     117389  1987-09-01           2   \n",
       "\n",
       "   totalWeight  \n",
       "0          3.3  \n",
       "1        197.3  \n",
       "2          4.2  \n",
       "3         96.9  \n",
       "4         16.2  "
      ]
     },
     "execution_count": 125,
     "metadata": {},
     "output_type": "execute_result"
    }
   ],
   "source": [
    "lakes_df = pd.concat(lakes_data)\n",
    "lakes_df[\"survey_date\"] = pd.to_datetime(lakes_df[\"survey_date\"],format=\"%Y-%m-%d\")\n",
    "lakes_df.head()"
   ]
  },
  {
   "cell_type": "code",
   "execution_count": 127,
   "id": "b5093933",
   "metadata": {},
   "outputs": [
    {
     "name": "stdout",
     "output_type": "stream",
     "text": [
      "Enter a species to compare: BLG\n"
     ]
    }
   ],
   "source": [
    "species = input(\"Enter a species to compare: \")"
   ]
  },
  {
   "cell_type": "code",
   "execution_count": 128,
   "id": "508bc504",
   "metadata": {},
   "outputs": [],
   "source": [
    "lake_boxplot_cpue_list = []\n",
    "for lakeid in lakes:\n",
    "    species_cpue = lakes_df.loc[(lakes_df[\"species\"] == species) & \\\n",
    "                                (lakes_df[\"gear\"] == \"Standard gill nets\") & \\\n",
    "                                (lakes_df[\"lake_ID\"] == lakeid), \"CPUE\"]\n",
    "    lake_boxplot_cpue_list.append(species_cpue)"
   ]
  },
  {
   "cell_type": "code",
   "execution_count": 129,
   "id": "0228281e",
   "metadata": {
    "scrolled": false
   },
   "outputs": [
    {
     "data": {
      "image/png": "[encoded data removed]",
      "text/plain": [
       "<Figure size 640x480 with 1 Axes>"
      ]
     },
     "metadata": {},
     "output_type": "display_data"
    }
   ],
   "source": [
    "plt.boxplot(lake_boxplot_cpue_list)\n",
    "labels = lakes\n",
    "ticks = range(1, len(lakes)+1)\n",
    "plt.xticks(ticks=ticks, labels=labels)\n",
    "plt.title(species)\n",
    "plt.show()"
   ]
  },
  {
   "cell_type": "code",
   "execution_count": null,
   "id": "3f30c98f",
   "metadata": {
    "scrolled": false
   },
   "outputs": [],
   "source": []
  },
  {
   "cell_type": "code",
   "execution_count": 149,
   "id": "d4ab924a",
   "metadata": {},
   "outputs": [],
   "source": [
    "lake_scatter_cpue_list = []\n",
    "lake_scatter_survey_date_list = []\n",
    "for lakeid in lakes:\n",
    "    species_cpue = lakes_df.loc[(lakes_df[\"species\"] == species) & \\\n",
    "                                (lakes_df[\"gear\"] == \"Standard gill nets\") & \\\n",
    "                                (lakes_df[\"lake_ID\"] == lakeid), \"CPUE\"]\n",
    "    species_survey_date = lakes_df.loc[(lakes_df[\"species\"] == species) & \\\n",
    "                                (lakes_df[\"gear\"] == \"Standard gill nets\") & \\\n",
    "                                (lakes_df[\"lake_ID\"] == lakeid), \"survey_date\"]\n",
    "    lake_scatter_cpue_list.append(species_cpue)\n",
    "    lake_scatter_survey_date_list.append(species_survey_date)"
   ]
  },
  {
   "cell_type": "code",
   "execution_count": 156,
   "id": "ae175ddb",
   "metadata": {},
   "outputs": [
    {
     "data": {
      "image/png": "[encoded data removed]",
      "text/plain": [
       "<Figure size 640x480 with 1 Axes>"
      ]
     },
     "metadata": {},
     "output_type": "display_data"
    }
   ],
   "source": [
    "for _ in range(len(lakes)):\n",
    "    plt.scatter(lake_scatter_survey_date_list[_],lake_scatter_cpue_list[_], label=lakes[_])\n",
    "    plt.title(species)\n",
    "    plt.xticks(rotation=45, ha=\"right\")\n",
    "    plt.legend(loc=\"best\")\n",
    "plt.show()"
   ]
  },
  {
   "cell_type": "code",
   "execution_count": null,
   "id": "9c9a73a5",
   "metadata": {},
   "outputs": [],
   "source": []
  }
 ],
 "metadata": {
  "kernelspec": {
   "display_name": "PythonData",
   "language": "python",
   "name": "pythondata"
  },
  "language_info": {
   "codemirror_mode": {
    "name": "ipython",
    "version": 3
   },
   "file_extension": ".py",
   "mimetype": "text/x-python",
   "name": "python",
   "nbconvert_exporter": "python",
   "pygments_lexer": "ipython3",
   "version": "3.7.15"
  }
 },
 "nbformat": 4,
 "nbformat_minor": 5
}
