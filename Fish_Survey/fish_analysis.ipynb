{
 "cells": [
  {
   "cell_type": "code",
   "execution_count": 1,
   "id": "eb963daa",
   "metadata": {},
   "outputs": [],
   "source": [
    "import pandas as pd\n",
    "import matplotlib.pyplot as plt\n",
    "import scipy.stats as st\n",
    "import numpy as np"
   ]
  },
  {
   "cell_type": "code",
   "execution_count": 6,
   "id": "e0760dfc",
   "metadata": {},
   "outputs": [
    {
     "name": "stdout",
     "output_type": "stream",
     "text": [
      "Enter a lake to compare: 08004500\n",
      "Enter a lake to compare: 29007100\n",
      "Enter a lake to compare: 06015200\n",
      "Enter a lake to compare: 31078400\n",
      "Enter a lake to compare: 56038200\n"
     ]
    }
   ],
   "source": [
    "lake1 = input(\"Enter a lake to compare: \")\n",
    "lake2 = input(\"Enter a lake to compare: \")\n",
    "lake3 = input(\"Enter a lake to compare: \")\n",
    "lake4 = input(\"Enter a lake to compare: \")\n",
    "lake5 = input(\"Enter a lake to compare: \")"
   ]
  },
  {
   "cell_type": "code",
   "execution_count": 7,
   "id": "7ceb1477",
   "metadata": {
    "scrolled": true
   },
   "outputs": [],
   "source": [
    "lake1_df = pd.read_csv(f\"Resources/{lake1}_catch.csv\")\n",
    "lake2_df = pd.read_csv(f\"Resources/{lake2}_catch.csv\")\n",
    "lake3_df = pd.read_csv(f\"Resources/{lake3}_catch.csv\")\n",
    "lake4_df = pd.read_csv(f\"Resources/{lake4}_catch.csv\")\n",
    "lake5_df = pd.read_csv(f\"Resources/{lake5}_catch.csv\")"
   ]
  },
  {
   "cell_type": "code",
   "execution_count": 9,
   "id": "27b9458d",
   "metadata": {},
   "outputs": [
    {
     "data": {
      "text/html": [
       "<div>\n",
       "<style scoped>\n",
       "    .dataframe tbody tr th:only-of-type {\n",
       "        vertical-align: middle;\n",
       "    }\n",
       "\n",
       "    .dataframe tbody tr th {\n",
       "        vertical-align: top;\n",
       "    }\n",
       "\n",
       "    .dataframe thead th {\n",
       "        text-align: right;\n",
       "    }\n",
       "</style>\n",
       "<table border=\"1\" class=\"dataframe\">\n",
       "  <thead>\n",
       "    <tr style=\"text-align: right;\">\n",
       "      <th></th>\n",
       "      <th>CPUE</th>\n",
       "      <th>averageWeight</th>\n",
       "      <th>gear</th>\n",
       "      <th>gearCount</th>\n",
       "      <th>quartileCount</th>\n",
       "      <th>quartileWeight</th>\n",
       "      <th>species</th>\n",
       "      <th>survey_ID</th>\n",
       "      <th>survey_date</th>\n",
       "      <th>totalCatch</th>\n",
       "      <th>totalWeight</th>\n",
       "    </tr>\n",
       "  </thead>\n",
       "  <tbody>\n",
       "    <tr>\n",
       "      <th>0</th>\n",
       "      <td>17.0</td>\n",
       "      <td>1.68</td>\n",
       "      <td>Standard gill nets</td>\n",
       "      <td>1.0</td>\n",
       "      <td>2.0-10.8</td>\n",
       "      <td>1.7-3.1</td>\n",
       "      <td>NOP</td>\n",
       "      <td>117310</td>\n",
       "      <td>1995-08-10</td>\n",
       "      <td>17</td>\n",
       "      <td>12943.0</td>\n",
       "    </tr>\n",
       "    <tr>\n",
       "      <th>1</th>\n",
       "      <td>20.2</td>\n",
       "      <td>0.12</td>\n",
       "      <td>Standard trap nets</td>\n",
       "      <td>5.0</td>\n",
       "      <td>3.5-57.1</td>\n",
       "      <td>0.1-0.3</td>\n",
       "      <td>BLG</td>\n",
       "      <td>117310</td>\n",
       "      <td>1995-08-10</td>\n",
       "      <td>101</td>\n",
       "      <td>5553.0</td>\n",
       "    </tr>\n",
       "    <tr>\n",
       "      <th>2</th>\n",
       "      <td>1.2</td>\n",
       "      <td>0.12</td>\n",
       "      <td>Standard trap nets</td>\n",
       "      <td>5.0</td>\n",
       "      <td>0.4-2.8</td>\n",
       "      <td>0.1-0.2</td>\n",
       "      <td>YEP</td>\n",
       "      <td>117310</td>\n",
       "      <td>1995-08-10</td>\n",
       "      <td>6</td>\n",
       "      <td>328.0</td>\n",
       "    </tr>\n",
       "    <tr>\n",
       "      <th>3</th>\n",
       "      <td>8.8</td>\n",
       "      <td>0.05</td>\n",
       "      <td>Standard trap nets</td>\n",
       "      <td>5.0</td>\n",
       "      <td>0.2-0.8</td>\n",
       "      <td>0.3-1.5</td>\n",
       "      <td>LMB</td>\n",
       "      <td>117310</td>\n",
       "      <td>1995-08-10</td>\n",
       "      <td>44</td>\n",
       "      <td>990.0</td>\n",
       "    </tr>\n",
       "    <tr>\n",
       "      <th>4</th>\n",
       "      <td>2.0</td>\n",
       "      <td>0.19</td>\n",
       "      <td>Standard trap nets</td>\n",
       "      <td>5.0</td>\n",
       "      <td>2.1-24.1</td>\n",
       "      <td>0.2-0.4</td>\n",
       "      <td>BLC</td>\n",
       "      <td>117310</td>\n",
       "      <td>1995-08-10</td>\n",
       "      <td>10</td>\n",
       "      <td>850.0</td>\n",
       "    </tr>\n",
       "  </tbody>\n",
       "</table>\n",
       "</div>"
      ],
      "text/plain": [
       "   CPUE  averageWeight                gear  gearCount quartileCount  \\\n",
       "0  17.0           1.68  Standard gill nets        1.0      2.0-10.8   \n",
       "1  20.2           0.12  Standard trap nets        5.0      3.5-57.1   \n",
       "2   1.2           0.12  Standard trap nets        5.0       0.4-2.8   \n",
       "3   8.8           0.05  Standard trap nets        5.0       0.2-0.8   \n",
       "4   2.0           0.19  Standard trap nets        5.0      2.1-24.1   \n",
       "\n",
       "  quartileWeight species  survey_ID survey_date  totalCatch  totalWeight  \n",
       "0        1.7-3.1     NOP     117310  1995-08-10          17      12943.0  \n",
       "1        0.1-0.3     BLG     117310  1995-08-10         101       5553.0  \n",
       "2        0.1-0.2     YEP     117310  1995-08-10           6        328.0  \n",
       "3        0.3-1.5     LMB     117310  1995-08-10          44        990.0  \n",
       "4        0.2-0.4     BLC     117310  1995-08-10          10        850.0  "
      ]
     },
     "execution_count": 9,
     "metadata": {},
     "output_type": "execute_result"
    }
   ],
   "source": [
    "lake1_df.head()"
   ]
  },
  {
   "cell_type": "code",
   "execution_count": 8,
   "id": "b5093933",
   "metadata": {},
   "outputs": [
    {
     "name": "stdout",
     "output_type": "stream",
     "text": [
      "Enter a species to compare: BLG\n"
     ]
    }
   ],
   "source": [
    "species1 = input(\"Enter a species to compare: \")"
   ]
  },
  {
   "cell_type": "code",
   "execution_count": 11,
   "id": "941ee7d9",
   "metadata": {
    "scrolled": false
   },
   "outputs": [],
   "source": [
    "species1_df = lake1_df.loc[(lake1_df[\"species\"] == species1) & (lake1_df[\"gear\"] == \"Standard gill nets\")]\n",
    "species1_df = species1_df.sort_values(by=\"survey_date\")"
   ]
  },
  {
   "cell_type": "code",
   "execution_count": 12,
   "id": "03682706",
   "metadata": {},
   "outputs": [
    {
     "data": {
      "text/html": [
       "<div>\n",
       "<style scoped>\n",
       "    .dataframe tbody tr th:only-of-type {\n",
       "        vertical-align: middle;\n",
       "    }\n",
       "\n",
       "    .dataframe tbody tr th {\n",
       "        vertical-align: top;\n",
       "    }\n",
       "\n",
       "    .dataframe thead th {\n",
       "        text-align: right;\n",
       "    }\n",
       "</style>\n",
       "<table border=\"1\" class=\"dataframe\">\n",
       "  <thead>\n",
       "    <tr style=\"text-align: right;\">\n",
       "      <th></th>\n",
       "      <th>CPUE</th>\n",
       "      <th>averageWeight</th>\n",
       "      <th>gear</th>\n",
       "      <th>gearCount</th>\n",
       "      <th>quartileCount</th>\n",
       "      <th>quartileWeight</th>\n",
       "      <th>species</th>\n",
       "      <th>survey_ID</th>\n",
       "      <th>survey_date</th>\n",
       "      <th>totalCatch</th>\n",
       "      <th>totalWeight</th>\n",
       "    </tr>\n",
       "  </thead>\n",
       "  <tbody>\n",
       "    <tr>\n",
       "      <th>173</th>\n",
       "      <td>0.17</td>\n",
       "      <td>0.12</td>\n",
       "      <td>Standard gill nets</td>\n",
       "      <td>6.0</td>\n",
       "      <td>NaN</td>\n",
       "      <td>NaN</td>\n",
       "      <td>BLG</td>\n",
       "      <td>117289</td>\n",
       "      <td>1983-07-20</td>\n",
       "      <td>1</td>\n",
       "      <td>0.12</td>\n",
       "    </tr>\n",
       "    <tr>\n",
       "      <th>203</th>\n",
       "      <td>0.50</td>\n",
       "      <td>0.22</td>\n",
       "      <td>Standard gill nets</td>\n",
       "      <td>4.0</td>\n",
       "      <td>NaN</td>\n",
       "      <td>NaN</td>\n",
       "      <td>BLG</td>\n",
       "      <td>117297</td>\n",
       "      <td>1991-07-15</td>\n",
       "      <td>2</td>\n",
       "      <td>0.44</td>\n",
       "    </tr>\n",
       "    <tr>\n",
       "      <th>6</th>\n",
       "      <td>1.00</td>\n",
       "      <td>0.20</td>\n",
       "      <td>Standard gill nets</td>\n",
       "      <td>1.0</td>\n",
       "      <td>NaN</td>\n",
       "      <td>NaN</td>\n",
       "      <td>BLG</td>\n",
       "      <td>117310</td>\n",
       "      <td>1995-08-10</td>\n",
       "      <td>1</td>\n",
       "      <td>90.00</td>\n",
       "    </tr>\n",
       "    <tr>\n",
       "      <th>69</th>\n",
       "      <td>2.00</td>\n",
       "      <td>0.14</td>\n",
       "      <td>Standard gill nets</td>\n",
       "      <td>2.0</td>\n",
       "      <td>NaN</td>\n",
       "      <td>NaN</td>\n",
       "      <td>BLG</td>\n",
       "      <td>117312</td>\n",
       "      <td>1996-08-28</td>\n",
       "      <td>4</td>\n",
       "      <td>248.00</td>\n",
       "    </tr>\n",
       "    <tr>\n",
       "      <th>114</th>\n",
       "      <td>9.67</td>\n",
       "      <td>0.19</td>\n",
       "      <td>Standard gill nets</td>\n",
       "      <td>3.0</td>\n",
       "      <td>NaN</td>\n",
       "      <td>NaN</td>\n",
       "      <td>BLG</td>\n",
       "      <td>117316</td>\n",
       "      <td>1997-07-21</td>\n",
       "      <td>29</td>\n",
       "      <td>2443.00</td>\n",
       "    </tr>\n",
       "  </tbody>\n",
       "</table>\n",
       "</div>"
      ],
      "text/plain": [
       "     CPUE  averageWeight                gear  gearCount quartileCount  \\\n",
       "173  0.17           0.12  Standard gill nets        6.0           NaN   \n",
       "203  0.50           0.22  Standard gill nets        4.0           NaN   \n",
       "6    1.00           0.20  Standard gill nets        1.0           NaN   \n",
       "69   2.00           0.14  Standard gill nets        2.0           NaN   \n",
       "114  9.67           0.19  Standard gill nets        3.0           NaN   \n",
       "\n",
       "    quartileWeight species  survey_ID survey_date  totalCatch  totalWeight  \n",
       "173            NaN     BLG     117289  1983-07-20           1         0.12  \n",
       "203            NaN     BLG     117297  1991-07-15           2         0.44  \n",
       "6              NaN     BLG     117310  1995-08-10           1        90.00  \n",
       "69             NaN     BLG     117312  1996-08-28           4       248.00  \n",
       "114            NaN     BLG     117316  1997-07-21          29      2443.00  "
      ]
     },
     "execution_count": 12,
     "metadata": {},
     "output_type": "execute_result"
    }
   ],
   "source": [
    "species1_df.head()"
   ]
  },
  {
   "cell_type": "code",
   "execution_count": 13,
   "id": "0228281e",
   "metadata": {
    "scrolled": false
   },
   "outputs": [
    {
     "data": {
      "image/png": "[encoded data removed]",
      "text/plain": [
       "<Figure size 640x480 with 1 Axes>"
      ]
     },
     "metadata": {},
     "output_type": "display_data"
    }
   ],
   "source": [
    "plt.boxplot(species1_df[\"CPUE\"])\n",
    "labels = [lake1]\n",
    "ticks = [1]\n",
    "plt.xticks(ticks=ticks, labels=labels)\n",
    "plt.title(species1)\n",
    "plt.show()"
   ]
  },
  {
   "cell_type": "code",
   "execution_count": 14,
   "id": "3f30c98f",
   "metadata": {
    "scrolled": false
   },
   "outputs": [],
   "source": [
    "species1_df[\"survey_date\"] = pd.to_datetime(species1_df[\"survey_date\"],format=\"%Y-%m-%d\")"
   ]
  },
  {
   "cell_type": "code",
   "execution_count": 17,
   "id": "b6dd2850",
   "metadata": {},
   "outputs": [
    {
     "data": {
      "image/png": "[encoded data removed]",
      "text/plain": [
       "<Figure size 640x480 with 1 Axes>"
      ]
     },
     "metadata": {},
     "output_type": "display_data"
    }
   ],
   "source": [
    "plt.scatter(species1_df[\"survey_date\"],species1_df[\"CPUE\"])\n",
    "plt.title(species1)\n",
    "plt.xticks(rotation=45, ha=\"right\")\n",
    "plt.show()"
   ]
  },
  {
   "cell_type": "code",
   "execution_count": null,
   "id": "9c9a73a5",
   "metadata": {},
   "outputs": [],
   "source": []
  }
 ],
 "metadata": {
  "kernelspec": {
   "display_name": "PythonData",
   "language": "python",
   "name": "pythondata"
  },
  "language_info": {
   "codemirror_mode": {
    "name": "ipython",
    "version": 3
   },
   "file_extension": ".py",
   "mimetype": "text/x-python",
   "name": "python",
   "nbconvert_exporter": "python",
   "pygments_lexer": "ipython3",
   "version": "3.7.15"
  }
 },
 "nbformat": 4,
 "nbformat_minor": 5
}
