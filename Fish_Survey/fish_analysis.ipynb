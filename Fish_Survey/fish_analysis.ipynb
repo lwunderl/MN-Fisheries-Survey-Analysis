{
 "cells": [
  {
   "cell_type": "code",
   "execution_count": 22,
   "id": "eb963daa",
   "metadata": {},
   "outputs": [],
   "source": [
    "import pandas as pd\n",
    "import matplotlib.pyplot as plt\n",
    "import scipy.stats as st\n",
    "import numpy as np"
   ]
  },
  {
   "cell_type": "code",
   "execution_count": 34,
   "id": "7ceb1477",
   "metadata": {
    "scrolled": true
   },
   "outputs": [],
   "source": [
    "sleepy_eye = pd.read_csv(\"Resources/08004500_catch.csv\")\n",
    "big_stone = pd.read_csv(\"Resources/06015200_catch.csv\")"
   ]
  },
  {
   "cell_type": "code",
   "execution_count": 35,
   "id": "941ee7d9",
   "metadata": {
    "scrolled": true
   },
   "outputs": [
    {
     "data": {
      "text/html": [
       "<div>\n",
       "<style scoped>\n",
       "    .dataframe tbody tr th:only-of-type {\n",
       "        vertical-align: middle;\n",
       "    }\n",
       "\n",
       "    .dataframe tbody tr th {\n",
       "        vertical-align: top;\n",
       "    }\n",
       "\n",
       "    .dataframe thead th {\n",
       "        text-align: right;\n",
       "    }\n",
       "</style>\n",
       "<table border=\"1\" class=\"dataframe\">\n",
       "  <thead>\n",
       "    <tr style=\"text-align: right;\">\n",
       "      <th></th>\n",
       "      <th>CPUE</th>\n",
       "      <th>averageWeight</th>\n",
       "      <th>gear</th>\n",
       "      <th>gearCount</th>\n",
       "      <th>quartileCount</th>\n",
       "      <th>quartileWeight</th>\n",
       "      <th>species</th>\n",
       "      <th>survey_ID</th>\n",
       "      <th>survey_date</th>\n",
       "      <th>totalCatch</th>\n",
       "      <th>totalWeight</th>\n",
       "    </tr>\n",
       "  </thead>\n",
       "  <tbody>\n",
       "    <tr>\n",
       "      <th>173</th>\n",
       "      <td>0.17</td>\n",
       "      <td>0.12</td>\n",
       "      <td>Standard gill nets</td>\n",
       "      <td>6.0</td>\n",
       "      <td>NaN</td>\n",
       "      <td>NaN</td>\n",
       "      <td>BLG</td>\n",
       "      <td>117289</td>\n",
       "      <td>1983-07-20</td>\n",
       "      <td>1</td>\n",
       "      <td>0.12</td>\n",
       "    </tr>\n",
       "    <tr>\n",
       "      <th>203</th>\n",
       "      <td>0.50</td>\n",
       "      <td>0.22</td>\n",
       "      <td>Standard gill nets</td>\n",
       "      <td>4.0</td>\n",
       "      <td>NaN</td>\n",
       "      <td>NaN</td>\n",
       "      <td>BLG</td>\n",
       "      <td>117297</td>\n",
       "      <td>1991-07-15</td>\n",
       "      <td>2</td>\n",
       "      <td>0.44</td>\n",
       "    </tr>\n",
       "    <tr>\n",
       "      <th>6</th>\n",
       "      <td>1.00</td>\n",
       "      <td>0.20</td>\n",
       "      <td>Standard gill nets</td>\n",
       "      <td>1.0</td>\n",
       "      <td>NaN</td>\n",
       "      <td>NaN</td>\n",
       "      <td>BLG</td>\n",
       "      <td>117310</td>\n",
       "      <td>1995-08-10</td>\n",
       "      <td>1</td>\n",
       "      <td>90.00</td>\n",
       "    </tr>\n",
       "    <tr>\n",
       "      <th>69</th>\n",
       "      <td>2.00</td>\n",
       "      <td>0.14</td>\n",
       "      <td>Standard gill nets</td>\n",
       "      <td>2.0</td>\n",
       "      <td>NaN</td>\n",
       "      <td>NaN</td>\n",
       "      <td>BLG</td>\n",
       "      <td>117312</td>\n",
       "      <td>1996-08-28</td>\n",
       "      <td>4</td>\n",
       "      <td>248.00</td>\n",
       "    </tr>\n",
       "    <tr>\n",
       "      <th>114</th>\n",
       "      <td>9.67</td>\n",
       "      <td>0.19</td>\n",
       "      <td>Standard gill nets</td>\n",
       "      <td>3.0</td>\n",
       "      <td>NaN</td>\n",
       "      <td>NaN</td>\n",
       "      <td>BLG</td>\n",
       "      <td>117316</td>\n",
       "      <td>1997-07-21</td>\n",
       "      <td>29</td>\n",
       "      <td>2443.00</td>\n",
       "    </tr>\n",
       "  </tbody>\n",
       "</table>\n",
       "</div>"
      ],
      "text/plain": [
       "     CPUE  averageWeight                gear  gearCount quartileCount  \\\n",
       "173  0.17           0.12  Standard gill nets        6.0           NaN   \n",
       "203  0.50           0.22  Standard gill nets        4.0           NaN   \n",
       "6    1.00           0.20  Standard gill nets        1.0           NaN   \n",
       "69   2.00           0.14  Standard gill nets        2.0           NaN   \n",
       "114  9.67           0.19  Standard gill nets        3.0           NaN   \n",
       "\n",
       "    quartileWeight species  survey_ID survey_date  totalCatch  totalWeight  \n",
       "173            NaN     BLG     117289  1983-07-20           1         0.12  \n",
       "203            NaN     BLG     117297  1991-07-15           2         0.44  \n",
       "6              NaN     BLG     117310  1995-08-10           1        90.00  \n",
       "69             NaN     BLG     117312  1996-08-28           4       248.00  \n",
       "114            NaN     BLG     117316  1997-07-21          29      2443.00  "
      ]
     },
     "execution_count": 35,
     "metadata": {},
     "output_type": "execute_result"
    }
   ],
   "source": [
    "northernse = sleepy_eye.loc[(sleepy_eye[\"species\"] == \"BLG\") & (sleepy_eye[\"gear\"] == \"Standard gill nets\")]\n",
    "northernse = northernse.sort_values(by=\"survey_date\")\n",
    "northernse.head()"
   ]
  },
  {
   "cell_type": "code",
   "execution_count": 36,
   "id": "0e773bb9",
   "metadata": {
    "scrolled": true
   },
   "outputs": [
    {
     "data": {
      "text/html": [
       "<div>\n",
       "<style scoped>\n",
       "    .dataframe tbody tr th:only-of-type {\n",
       "        vertical-align: middle;\n",
       "    }\n",
       "\n",
       "    .dataframe tbody tr th {\n",
       "        vertical-align: top;\n",
       "    }\n",
       "\n",
       "    .dataframe thead th {\n",
       "        text-align: right;\n",
       "    }\n",
       "</style>\n",
       "<table border=\"1\" class=\"dataframe\">\n",
       "  <thead>\n",
       "    <tr style=\"text-align: right;\">\n",
       "      <th></th>\n",
       "      <th>CPUE</th>\n",
       "      <th>averageWeight</th>\n",
       "      <th>gear</th>\n",
       "      <th>gearCount</th>\n",
       "      <th>quartileCount</th>\n",
       "      <th>quartileWeight</th>\n",
       "      <th>species</th>\n",
       "      <th>survey_ID</th>\n",
       "      <th>survey_date</th>\n",
       "      <th>totalCatch</th>\n",
       "      <th>totalWeight</th>\n",
       "    </tr>\n",
       "  </thead>\n",
       "  <tbody>\n",
       "    <tr>\n",
       "      <th>1164</th>\n",
       "      <td>0.29</td>\n",
       "      <td>0.14</td>\n",
       "      <td>Standard gill nets</td>\n",
       "      <td>14.0</td>\n",
       "      <td>NaN</td>\n",
       "      <td>NaN</td>\n",
       "      <td>BLG</td>\n",
       "      <td>117383</td>\n",
       "      <td>1985-07-08</td>\n",
       "      <td>4</td>\n",
       "      <td>0.55</td>\n",
       "    </tr>\n",
       "    <tr>\n",
       "      <th>12</th>\n",
       "      <td>0.10</td>\n",
       "      <td>0.40</td>\n",
       "      <td>Standard gill nets</td>\n",
       "      <td>20.0</td>\n",
       "      <td>NaN</td>\n",
       "      <td>NaN</td>\n",
       "      <td>BLG</td>\n",
       "      <td>117389</td>\n",
       "      <td>1987-09-01</td>\n",
       "      <td>2</td>\n",
       "      <td>0.80</td>\n",
       "    </tr>\n",
       "    <tr>\n",
       "      <th>1367</th>\n",
       "      <td>0.10</td>\n",
       "      <td>0.50</td>\n",
       "      <td>Standard gill nets</td>\n",
       "      <td>20.0</td>\n",
       "      <td>NaN</td>\n",
       "      <td>NaN</td>\n",
       "      <td>BLG</td>\n",
       "      <td>117397</td>\n",
       "      <td>1989-07-12</td>\n",
       "      <td>2</td>\n",
       "      <td>1.00</td>\n",
       "    </tr>\n",
       "    <tr>\n",
       "      <th>320</th>\n",
       "      <td>0.17</td>\n",
       "      <td>0.35</td>\n",
       "      <td>Standard gill nets</td>\n",
       "      <td>12.0</td>\n",
       "      <td>NaN</td>\n",
       "      <td>NaN</td>\n",
       "      <td>BLG</td>\n",
       "      <td>117410</td>\n",
       "      <td>1992-06-01</td>\n",
       "      <td>2</td>\n",
       "      <td>0.70</td>\n",
       "    </tr>\n",
       "    <tr>\n",
       "      <th>920</th>\n",
       "      <td>0.08</td>\n",
       "      <td>0.35</td>\n",
       "      <td>Standard gill nets</td>\n",
       "      <td>12.0</td>\n",
       "      <td>NaN</td>\n",
       "      <td>NaN</td>\n",
       "      <td>BLG</td>\n",
       "      <td>117420</td>\n",
       "      <td>1993-05-17</td>\n",
       "      <td>1</td>\n",
       "      <td>160.00</td>\n",
       "    </tr>\n",
       "  </tbody>\n",
       "</table>\n",
       "</div>"
      ],
      "text/plain": [
       "      CPUE  averageWeight                gear  gearCount quartileCount  \\\n",
       "1164  0.29           0.14  Standard gill nets       14.0           NaN   \n",
       "12    0.10           0.40  Standard gill nets       20.0           NaN   \n",
       "1367  0.10           0.50  Standard gill nets       20.0           NaN   \n",
       "320   0.17           0.35  Standard gill nets       12.0           NaN   \n",
       "920   0.08           0.35  Standard gill nets       12.0           NaN   \n",
       "\n",
       "     quartileWeight species  survey_ID survey_date  totalCatch  totalWeight  \n",
       "1164            NaN     BLG     117383  1985-07-08           4         0.55  \n",
       "12              NaN     BLG     117389  1987-09-01           2         0.80  \n",
       "1367            NaN     BLG     117397  1989-07-12           2         1.00  \n",
       "320             NaN     BLG     117410  1992-06-01           2         0.70  \n",
       "920             NaN     BLG     117420  1993-05-17           1       160.00  "
      ]
     },
     "execution_count": 36,
     "metadata": {},
     "output_type": "execute_result"
    }
   ],
   "source": [
    "northernbs = big_stone.loc[(big_stone[\"species\"] == \"BLG\") & (big_stone[\"gear\"] == \"Standard gill nets\")]\n",
    "northernbs = northernbs.sort_values(by=\"survey_date\")\n",
    "northernbs.head()"
   ]
  },
  {
   "cell_type": "code",
   "execution_count": 37,
   "id": "0228281e",
   "metadata": {
    "scrolled": false
   },
   "outputs": [
    {
     "data": {
      "image/png": "[encoded data removed]",
      "text/plain": [
       "<Figure size 640x480 with 1 Axes>"
      ]
     },
     "metadata": {},
     "output_type": "display_data"
    }
   ],
   "source": [
    "plt.boxplot([northernse[\"CPUE\"], northernbs[\"CPUE\"]])\n",
    "labels = [\"Sleepy Eye\", \"Big Stone\"]\n",
    "ticks = [1,2]\n",
    "plt.xticks(ticks=ticks, labels=labels)\n",
    "plt.title(\"Blue Gill\")\n",
    "plt.show()"
   ]
  },
  {
   "cell_type": "code",
   "execution_count": 5,
   "id": "3f30c98f",
   "metadata": {
    "scrolled": false
   },
   "outputs": [
    {
     "data": {
      "text/plain": [
       "161   1983-07-20\n",
       "94    1986-07-16\n",
       "196   1991-07-15\n",
       "225   1992-07-20\n",
       "40    1994-08-25\n",
       "0     1995-08-10\n",
       "61    1996-08-28\n",
       "106   1997-07-21\n",
       "72    1998-08-10\n",
       "175   1999-09-07\n",
       "49    2000-08-21\n",
       "213   2001-08-21\n",
       "117   2002-08-26\n",
       "83    2003-08-19\n",
       "147   2004-09-08\n",
       "14    2011-06-20\n",
       "130   2016-06-20\n",
       "187   2021-08-16\n",
       "Name: survey_date, dtype: datetime64[ns]"
      ]
     },
     "execution_count": 5,
     "metadata": {},
     "output_type": "execute_result"
    }
   ],
   "source": [
    "northern[\"survey_date\"] = pd.to_datetime(northern[\"survey_date\"],format=\"%Y-%m-%d\")\n",
    "northern[\"survey_date\"]"
   ]
  },
  {
   "cell_type": "code",
   "execution_count": 6,
   "id": "b6dd2850",
   "metadata": {},
   "outputs": [
    {
     "data": {
      "image/png": "[encoded data removed]",
      "text/plain": [
       "<Figure size 640x480 with 1 Axes>"
      ]
     },
     "metadata": {},
     "output_type": "display_data"
    }
   ],
   "source": [
    "plt.scatter(northern[\"survey_date\"],northern[\"CPUE\"])\n",
    "plt.xticks(rotation=45, ha=\"right\")\n",
    "plt.show()"
   ]
  },
  {
   "cell_type": "code",
   "execution_count": null,
   "id": "9c9a73a5",
   "metadata": {},
   "outputs": [],
   "source": []
  }
 ],
 "metadata": {
  "kernelspec": {
   "display_name": "PythonData",
   "language": "python",
   "name": "pythondata"
  },
  "language_info": {
   "codemirror_mode": {
    "name": "ipython",
    "version": 3
   },
   "file_extension": ".py",
   "mimetype": "text/x-python",
   "name": "python",
   "nbconvert_exporter": "python",
   "pygments_lexer": "ipython3",
   "version": "3.7.15"
  }
 },
 "nbformat": 4,
 "nbformat_minor": 5
}
